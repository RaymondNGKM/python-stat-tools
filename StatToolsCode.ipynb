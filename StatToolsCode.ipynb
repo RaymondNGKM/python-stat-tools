{
 "cells": [
  {
   "cell_type": "code",
   "execution_count": 5,
   "metadata": {},
   "outputs": [
    {
     "name": "stdout",
     "output_type": "stream",
     "text": [
      "        count        mean        std         min         25%         50%  \\\n",
      "Height  100.0   66.312727   4.010536   58.267597   62.942256   66.295653   \n",
      "Weight  100.0  163.994767  21.487525  109.421210  152.427465  160.535336   \n",
      "\n",
      "               75%         max  \n",
      "Height   69.038365   75.156170  \n",
      "Weight  175.330960  224.314048  \n",
      "       Height                                                        \\\n",
      "        count       mean       std        min        25%        50%   \n",
      "Gender                                                                \n",
      "F        48.0  63.456335  2.689962  58.267597  61.551462  63.123657   \n",
      "M        52.0  68.949397  3.128403  61.373865  66.661808  68.647565   \n",
      "\n",
      "                             Weight                                     \\\n",
      "              75%        max  count        mean        std         min   \n",
      "Gender                                                                   \n",
      "F       65.629058  69.101271   48.0  156.329915  17.117685  109.421210   \n",
      "M       71.284973  75.156170   52.0  171.070015  22.801305  117.827076   \n",
      "\n",
      "                                                        \n",
      "               25%         50%         75%         max  \n",
      "Gender                                                  \n",
      "F       146.026003  156.311498  164.401782  200.039848  \n",
      "M       156.338812  169.486549  184.246986  224.314048  \n"
     ]
    }
   ],
   "source": [
    "#import streamlit as st\n",
    "#import plotly_express as px\n",
    "import pandas as pd\n",
    "#from plotnine import *\n",
    "#from plotly.tools import mpl_to_plotly as ggplotly\n",
    "import numpy as np\n",
    "\n",
    "\n",
    "gs_URL = \"https://docs.google.com/spreadsheets/d/1Fx7f6rM5Ce331F9ipsEMn-xRjUKYiR3R_v9IDBusUUY/edit#gid=0\"\n",
    "googleSheetId = gs_URL.split(\"spreadsheets/d/\")[1].split(\"/edit\")[0]\n",
    "worksheetName = \"Sheet1\"\n",
    "URL = f'https://docs.google.com/spreadsheets/d/{googleSheetId}/gviz/tq?tqx=out:csv&sheet={worksheetName}'\n",
    "df = pd.read_csv(URL)\n",
    "df = df.dropna(axis=1, how=\"any\") \n",
    "\n",
    "global numeric_columns\n",
    "global non_numeric_columns\n",
    "\n",
    "numeric_columns = list(df.select_dtypes(['float', 'int']).columns)\n",
    "non_numeric_columns = list(df.select_dtypes(['object']).columns)\n",
    "non_numeric_columns.append(None)\n",
    "catt = non_numeric_columns[0]\n",
    "all = df.describe().T\n",
    "out = df.groupby([\"Gender\"]).describe()\n",
    "print(all)\n",
    "print(out)\n"
   ]
  },
  {
   "cell_type": "code",
   "execution_count": 3,
   "metadata": {},
   "outputs": [],
   "source": [
    "import pandas as pd\n",
    "adf = pd.read_csv(\"https://raw.githubusercontent.com/JackyP/testing/master/datasets/nycflights.csv\", usecols=range(1,17))"
   ]
  },
  {
   "cell_type": "code",
   "execution_count": 4,
   "metadata": {},
   "outputs": [],
   "source": [
    "newdf = df[(df.origin == \"JFK\") & (df.carrier == \"B6\")]"
   ]
  }
 ],
 "metadata": {
  "interpreter": {
   "hash": "c168bd907d9edf6e891a59be7f4ab8312caabe41970dca16a2465f9e936d4872"
  },
  "kernelspec": {
   "display_name": "Python 3.9.7 64-bit",
   "name": "python3"
  },
  "language_info": {
   "codemirror_mode": {
    "name": "ipython",
    "version": 3
   },
   "file_extension": ".py",
   "mimetype": "text/x-python",
   "name": "python",
   "nbconvert_exporter": "python",
   "pygments_lexer": "ipython3",
   "version": "3.9.7"
  },
  "orig_nbformat": 4
 },
 "nbformat": 4,
 "nbformat_minor": 2
}
