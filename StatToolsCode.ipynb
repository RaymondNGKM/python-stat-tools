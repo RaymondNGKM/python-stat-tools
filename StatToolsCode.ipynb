{
 "cells": [
  {
   "cell_type": "code",
   "execution_count": null,
   "metadata": {},
   "outputs": [],
   "source": [
    "#import streamlit as st\n",
    "#import plotly_express as px\n",
    "import pandas as pd\n",
    "#from plotnine import *\n",
    "#from plotly.tools import mpl_to_plotly as ggplotly\n",
    "import numpy as np\n",
    "\n",
    "\n",
    "gs_URL = \"https://docs.google.com/spreadsheets/d/1Fx7f6rM5Ce331F9ipsEMn-xRjUKYiR3R_v9IDBusUUY/edit#gid=0\"\n",
    "googleSheetId = gs_URL.split(\"spreadsheets/d/\")[1].split(\"/edit\")[0]\n",
    "worksheetName = \"Sheet1\"\n",
    "URL = f'https://docs.google.com/spreadsheets/d/{googleSheetId}/gviz/tq?tqx=out:csv&sheet={worksheetName}'\n",
    "df = pd.read_csv(URL)\n",
    "df = df.dropna(axis=1, how=\"any\") \n",
    "\n",
    "global numeric_columns\n",
    "global non_numeric_columns\n",
    "\n",
    "numeric_columns = list(df.select_dtypes(['float', 'int']).columns)\n",
    "non_numeric_columns = list(df.select_dtypes(['object']).columns)\n",
    "non_numeric_columns.append(None)\n",
    "catt = non_numeric_columns[0]\n",
    "all = df.describe().T\n",
    "out = df.groupby([\"Gender\"]).describe()\n",
    "print(all)\n",
    "print(out)\n"
   ]
  },
  {
   "cell_type": "code",
   "execution_count": null,
   "metadata": {},
   "outputs": [],
   "source": [
    "import pandas as pd\n",
    "adf = pd.read_csv(\"https://raw.githubusercontent.com/JackyP/testing/master/datasets/nycflights.csv\", usecols=range(1,17))"
   ]
  },
  {
   "cell_type": "code",
   "execution_count": null,
   "metadata": {},
   "outputs": [],
   "source": [
    "newdf = df[(df.origin == \"JFK\") & (df.carrier == \"B6\")]"
   ]
  },
  {
   "cell_type": "code",
   "execution_count": 23,
   "metadata": {},
   "outputs": [
    {
     "name": "stdout",
     "output_type": "stream",
     "text": [
      "2.9681644159311658\n"
     ]
    }
   ],
   "source": [
    "import pandas as pd\n",
    "from plotnine import *\n",
    "import numpy as np\n",
    "from tabulate import tabulate\n",
    "import math\n",
    "from scipy.stats import *\n",
    "\n",
    "gs_URL = \"https://docs.google.com/spreadsheets/d/1Fx7f6rM5Ce331F9ipsEMn-xRjUKYiR3R_v9IDBusUUY/edit#gid=0\"\n",
    "googleSheetId = gs_URL.split(\"spreadsheets/d/\")[1].split(\"/edit\")[0]\n",
    "worksheetName = \"Sheet3\"\n",
    "URL = f'https://docs.google.com/spreadsheets/d/{googleSheetId}/gviz/tq?tqx=out:csv&sheet={worksheetName}'    \n",
    "df = pd.read_csv(URL)\n",
    "df = df.dropna(axis=1, how=\"any\") \n",
    "x = df[\"X\"]\n",
    "p_x = df[\"Prob(X)\"]\n",
    "m =  sum(x*p_x)  \n",
    "sd = math.sqrt(sum((x-m)**2*p_x))\n",
    "print(sd)\n",
    "\n",
    "\n",
    "\n"
   ]
  },
  {
   "cell_type": "code",
   "execution_count": 60,
   "metadata": {},
   "outputs": [
    {
     "name": "stdout",
     "output_type": "stream",
     "text": [
      "2.0 2.0\n"
     ]
    }
   ],
   "source": [
    "from scipy.stats import *\n",
    "import numpy as np\n",
    "\n",
    "peh = 2\n",
    "pah = 5\n",
    "paah = np.r_[0:pah+6]\n",
    "cdf = poisson.cdf(paah,peh)\n",
    "pmf = poisson.pmf(paah,peh)\n",
    "paah = pd.DataFrame(paah)\n",
    "cdf = pd.DataFrame(cdf)\n",
    "pmf = pd.DataFrame(pmf)\n",
    "pm,pv = poisson.stats(peh)\n",
    "pdf = pd.concat([paah,pmf,cdf],axis=1)\n",
    "pdf.columns = [\"Hits\",\"PDF\",\"CDF\"]\n",
    "\n",
    "print(pm,pv)"
   ]
  }
 ],
 "metadata": {
  "interpreter": {
   "hash": "c168bd907d9edf6e891a59be7f4ab8312caabe41970dca16a2465f9e936d4872"
  },
  "kernelspec": {
   "display_name": "Python 3.9.7 64-bit",
   "name": "python3"
  },
  "language_info": {
   "codemirror_mode": {
    "name": "ipython",
    "version": 3
   },
   "file_extension": ".py",
   "mimetype": "text/x-python",
   "name": "python",
   "nbconvert_exporter": "python",
   "pygments_lexer": "ipython3",
   "version": "3.9.7"
  },
  "orig_nbformat": 4
 },
 "nbformat": 4,
 "nbformat_minor": 2
}
