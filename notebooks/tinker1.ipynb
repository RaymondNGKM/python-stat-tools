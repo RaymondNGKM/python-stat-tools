{
 "cells": [
  {
   "cell_type": "code",
   "execution_count": 4,
   "metadata": {},
   "outputs": [],
   "source": [
    "import pandas as pd\n",
    "import math\n",
    "\n",
    "gs_URL = 'https://docs.google.com/spreadsheets/d/1Fx7f6rM5Ce331F9ipsEMn-xRjUKYiR3R_v9IDBusUUY/edit#gid=46856285'\n",
    "googleSheetId = gs_URL.split(\"spreadsheets/d/\")[1].split(\"/edit\")[0]\n",
    "worksheetName = \"Discrete\"\n",
    "URL = f'https://docs.google.com/spreadsheets/d/{googleSheetId}/gviz/tq?tqx=out:csv&sheet={worksheetName}' \n",
    "df = pd.read_csv(URL)\n",
    "df = df.dropna(axis=1, how=\"all\")\n",
    "\n",
    "numeric_columns = list(df.select_dtypes(['float', 'int']).columns)\n",
    "non_numeric_columns = list(df.select_dtypes(['object']).columns)\n",
    "\n",
    "data = pd.DataFrame(columns = ['Type','Mean','Standard Deviation'])\n",
    "drow = 0\n",
    "for type in list(df[non_numeric_columns[0]].unique()):\n",
    "    df1 = df[df[non_numeric_columns[0]]==type]\n",
    "    x = df1[df.columns[0]]\n",
    "    p_x = df1[df.columns[1]]\n",
    "    data.loc[drow,'Type'] = type\n",
    "    m = sum(x*p_x)\n",
    "    data.loc[drow,'Mean'] =  m  \n",
    "    data.loc[drow,'Standard Deviation'] = math.sqrt(sum((x-m)**2*p_x))\n",
    "    drow = +1\n",
    "    \n",
    "\n",
    "\n",
    "data = data"
   ]
  }
 ],
 "metadata": {
  "interpreter": {
   "hash": "c168bd907d9edf6e891a59be7f4ab8312caabe41970dca16a2465f9e936d4872"
  },
  "kernelspec": {
   "display_name": "Python 3.9.7 64-bit",
   "language": "python",
   "name": "python3"
  },
  "language_info": {
   "codemirror_mode": {
    "name": "ipython",
    "version": 3
   },
   "file_extension": ".py",
   "mimetype": "text/x-python",
   "name": "python",
   "nbconvert_exporter": "python",
   "pygments_lexer": "ipython3",
   "version": "3.9.7"
  },
  "orig_nbformat": 4
 },
 "nbformat": 4,
 "nbformat_minor": 2
}
